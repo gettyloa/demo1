{
    "cells": [
        {
            "metadata": {},
            "cell_type": "markdown",
            "source": "# Pr\u00e9sentation\nFichier Excel charg\u00e9 pour tester python panda dans Watson Studio, coursera semaine 3"
        },
        {
            "metadata": {},
            "cell_type": "code",
            "source": "\nimport types\nimport pandas as pd\nfrom botocore.client import Config\nimport ibm_boto3\n\ndef __iter__(self): return 0\n\n# @hidden_cell\n# The following code accesses a file in your IBM Cloud Object Storage. It includes your credentials.\n# You might want to remove those credentials before you share the notebook.\nclient_aafb888364bd46249dd3ee87a82603d3 = ibm_boto3.client(service_name='s3',\n    ibm_api_key_id='qM3G_6QIqEFmH0DYJu5h5bE4EDF_x77IBA5MGqgMABMJ',\n    ibm_auth_endpoint=\"https://iam.cloud.ibm.com/oidc/token\",\n    config=Config(signature_version='oauth'),\n    endpoint_url='https://s3.eu-geo.objectstorage.service.networklayer.com')\n\nbody = client_aafb888364bd46249dd3ee87a82603d3.get_object(Bucket='py-donotdelete-pr-bkfmohvuogoqyk',Key='alcool.csv')['Body']\n# add missing __iter__ method, so pandas accepts body as file-like object\nif not hasattr(body, \"__iter__\"): body.__iter__ = types.MethodType( __iter__, body )\n\ndf_data_1 = pd.read_csv(body)\ndf_data_1.head()\n",
            "execution_count": 1,
            "outputs": [
                {
                    "output_type": "execute_result",
                    "execution_count": 1,
                    "data": {
                        "text/plain": "  t;SEVRE;AGE;SEXE;EDVNEG\n0            121;0;53;1;0\n1            121;0;52;2;0\n2             40;0;45;2;0\n3             39;0;48;1;1\n4             66;0;45;1;0",
                        "text/html": "<div>\n<style scoped>\n    .dataframe tbody tr th:only-of-type {\n        vertical-align: middle;\n    }\n\n    .dataframe tbody tr th {\n        vertical-align: top;\n    }\n\n    .dataframe thead th {\n        text-align: right;\n    }\n</style>\n<table border=\"1\" class=\"dataframe\">\n  <thead>\n    <tr style=\"text-align: right;\">\n      <th></th>\n      <th>t;SEVRE;AGE;SEXE;EDVNEG</th>\n    </tr>\n  </thead>\n  <tbody>\n    <tr>\n      <th>0</th>\n      <td>121;0;53;1;0</td>\n    </tr>\n    <tr>\n      <th>1</th>\n      <td>121;0;52;2;0</td>\n    </tr>\n    <tr>\n      <th>2</th>\n      <td>40;0;45;2;0</td>\n    </tr>\n    <tr>\n      <th>3</th>\n      <td>39;0;48;1;1</td>\n    </tr>\n    <tr>\n      <th>4</th>\n      <td>66;0;45;1;0</td>\n    </tr>\n  </tbody>\n</table>\n</div>"
                    },
                    "metadata": {}
                }
            ]
        },
        {
            "metadata": {},
            "cell_type": "code",
            "source": "",
            "execution_count": null,
            "outputs": []
        }
    ],
    "metadata": {
        "kernelspec": {
            "name": "python3",
            "display_name": "Python 3.6",
            "language": "python"
        },
        "language_info": {
            "name": "python",
            "version": "3.6.9",
            "mimetype": "text/x-python",
            "codemirror_mode": {
                "name": "ipython",
                "version": 3
            },
            "pygments_lexer": "ipython3",
            "nbconvert_exporter": "python",
            "file_extension": ".py"
        }
    },
    "nbformat": 4,
    "nbformat_minor": 1
}